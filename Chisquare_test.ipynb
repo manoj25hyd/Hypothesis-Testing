{
 "metadata": {
  "orig_nbformat": 2,
  "kernelspec": {
   "name": "machinelearning1",
   "display_name": "machinelearning1",
   "language": "python"
  }
 },
 "nbformat": 4,
 "nbformat_minor": 2,
 "cells": [
  {
   "source": [
    "# Chi-Square Test"
   ],
   "cell_type": "markdown",
   "metadata": {}
  },
  {
   "cell_type": "code",
   "execution_count": 29,
   "metadata": {},
   "outputs": [],
   "source": [
    "# Import Libraries\n",
    "import pandas as pd # For DataFrame Manipulation\n",
    "from scipy.stats import chi2_contingency\n",
    "from scipy.stats import chi2"
   ]
  },
  {
   "cell_type": "code",
   "execution_count": 44,
   "metadata": {},
   "outputs": [
    {
     "output_type": "execute_result",
     "data": {
      "text/plain": [
       "   age          workclass   fnlwgt   education   education-num  \\\n",
       "0   39          State-gov    77516   Bachelors              13   \n",
       "1   50   Self-emp-not-inc    83311   Bachelors              13   \n",
       "2   38            Private   215646     HS-grad               9   \n",
       "3   53            Private   234721        11th               7   \n",
       "4   28            Private   338409   Bachelors              13   \n",
       "\n",
       "        marital-status          occupation    relationship    race      sex  \\\n",
       "0        Never-married        Adm-clerical   Not-in-family   White     Male   \n",
       "1   Married-civ-spouse     Exec-managerial         Husband   White     Male   \n",
       "2             Divorced   Handlers-cleaners   Not-in-family   White     Male   \n",
       "3   Married-civ-spouse   Handlers-cleaners         Husband   Black     Male   \n",
       "4   Married-civ-spouse      Prof-specialty            Wife   Black   Female   \n",
       "\n",
       "    capital-gain   capital-loss   hours-per-week  native-country  income  \n",
       "0           2174              0               40   United-States   <=50K  \n",
       "1              0              0               13   United-States   <=50K  \n",
       "2              0              0               40   United-States   <=50K  \n",
       "3              0              0               40   United-States   <=50K  \n",
       "4              0              0               40            Cuba   <=50K  "
      ],
      "text/html": "<div>\n<style scoped>\n    .dataframe tbody tr th:only-of-type {\n        vertical-align: middle;\n    }\n\n    .dataframe tbody tr th {\n        vertical-align: top;\n    }\n\n    .dataframe thead th {\n        text-align: right;\n    }\n</style>\n<table border=\"1\" class=\"dataframe\">\n  <thead>\n    <tr style=\"text-align: right;\">\n      <th></th>\n      <th>age</th>\n      <th>workclass</th>\n      <th>fnlwgt</th>\n      <th>education</th>\n      <th>education-num</th>\n      <th>marital-status</th>\n      <th>occupation</th>\n      <th>relationship</th>\n      <th>race</th>\n      <th>sex</th>\n      <th>capital-gain</th>\n      <th>capital-loss</th>\n      <th>hours-per-week</th>\n      <th>native-country</th>\n      <th>income</th>\n    </tr>\n  </thead>\n  <tbody>\n    <tr>\n      <th>0</th>\n      <td>39</td>\n      <td>State-gov</td>\n      <td>77516</td>\n      <td>Bachelors</td>\n      <td>13</td>\n      <td>Never-married</td>\n      <td>Adm-clerical</td>\n      <td>Not-in-family</td>\n      <td>White</td>\n      <td>Male</td>\n      <td>2174</td>\n      <td>0</td>\n      <td>40</td>\n      <td>United-States</td>\n      <td>&lt;=50K</td>\n    </tr>\n    <tr>\n      <th>1</th>\n      <td>50</td>\n      <td>Self-emp-not-inc</td>\n      <td>83311</td>\n      <td>Bachelors</td>\n      <td>13</td>\n      <td>Married-civ-spouse</td>\n      <td>Exec-managerial</td>\n      <td>Husband</td>\n      <td>White</td>\n      <td>Male</td>\n      <td>0</td>\n      <td>0</td>\n      <td>13</td>\n      <td>United-States</td>\n      <td>&lt;=50K</td>\n    </tr>\n    <tr>\n      <th>2</th>\n      <td>38</td>\n      <td>Private</td>\n      <td>215646</td>\n      <td>HS-grad</td>\n      <td>9</td>\n      <td>Divorced</td>\n      <td>Handlers-cleaners</td>\n      <td>Not-in-family</td>\n      <td>White</td>\n      <td>Male</td>\n      <td>0</td>\n      <td>0</td>\n      <td>40</td>\n      <td>United-States</td>\n      <td>&lt;=50K</td>\n    </tr>\n    <tr>\n      <th>3</th>\n      <td>53</td>\n      <td>Private</td>\n      <td>234721</td>\n      <td>11th</td>\n      <td>7</td>\n      <td>Married-civ-spouse</td>\n      <td>Handlers-cleaners</td>\n      <td>Husband</td>\n      <td>Black</td>\n      <td>Male</td>\n      <td>0</td>\n      <td>0</td>\n      <td>40</td>\n      <td>United-States</td>\n      <td>&lt;=50K</td>\n    </tr>\n    <tr>\n      <th>4</th>\n      <td>28</td>\n      <td>Private</td>\n      <td>338409</td>\n      <td>Bachelors</td>\n      <td>13</td>\n      <td>Married-civ-spouse</td>\n      <td>Prof-specialty</td>\n      <td>Wife</td>\n      <td>Black</td>\n      <td>Female</td>\n      <td>0</td>\n      <td>0</td>\n      <td>40</td>\n      <td>Cuba</td>\n      <td>&lt;=50K</td>\n    </tr>\n  </tbody>\n</table>\n</div>"
     },
     "metadata": {},
     "execution_count": 44
    }
   ],
   "source": [
    "# Import Dataset\n",
    "df = pd.read_csv(\"E:\\\\ML Projects\\\\Income Classification\\\\income_evaluation.csv\")\n",
    "df.head()"
   ]
  },
  {
   "cell_type": "code",
   "execution_count": 45,
   "metadata": {},
   "outputs": [
    {
     "output_type": "execute_result",
     "data": {
      "text/plain": [
       "Index(['age', ' workclass', ' fnlwgt', ' education', ' education-num',\n",
       "       ' marital-status', ' occupation', ' relationship', ' race', ' sex',\n",
       "       ' capital-gain', ' capital-loss', ' hours-per-week', ' native-country',\n",
       "       ' income'],\n",
       "      dtype='object')"
      ]
     },
     "metadata": {},
     "execution_count": 45
    }
   ],
   "source": [
    "# Print column names\n",
    "df.columns"
   ]
  },
  {
   "cell_type": "code",
   "execution_count": 46,
   "metadata": {},
   "outputs": [
    {
     "output_type": "execute_result",
     "data": {
      "text/plain": [
       "Index(['age', 'workclass', 'fnlwgt', 'education', 'education-num',\n",
       "       'marital-status', 'occupation', 'relationship', 'race', 'sex',\n",
       "       'capital-gain', 'capital-loss', 'hours-per-week', 'native-country',\n",
       "       'income'],\n",
       "      dtype='object')"
      ]
     },
     "metadata": {},
     "execution_count": 46
    }
   ],
   "source": [
    "# Renaming columns to remove space in front of columns\n",
    "df.columns = [col_name.strip() for col_name in df.columns]\n",
    "df.columns"
   ]
  },
  {
   "source": [
    "### Checking Relationship Between \"race\" and \"income\"."
   ],
   "cell_type": "markdown",
   "metadata": {}
  },
  {
   "cell_type": "code",
   "execution_count": 47,
   "metadata": {},
   "outputs": [],
   "source": [
    "# Removing empty spaces infront of values\n",
    "df[\"race\"] = df[\"race\"].str.strip()\n",
    "df[\"income\"] = df[\"income\"].str.strip()"
   ]
  },
  {
   "cell_type": "code",
   "execution_count": 48,
   "metadata": {},
   "outputs": [
    {
     "output_type": "execute_result",
     "data": {
      "text/plain": [
       "race    Amer-Indian-Eskimo  Asian-Pac-Islander  Black  Other  White\n",
       "income                                                             \n",
       "<=50K                  275                 763   2737    246  20699\n",
       ">50K                    36                 276    387     25   7117"
      ],
      "text/html": "<div>\n<style scoped>\n    .dataframe tbody tr th:only-of-type {\n        vertical-align: middle;\n    }\n\n    .dataframe tbody tr th {\n        vertical-align: top;\n    }\n\n    .dataframe thead th {\n        text-align: right;\n    }\n</style>\n<table border=\"1\" class=\"dataframe\">\n  <thead>\n    <tr style=\"text-align: right;\">\n      <th>race</th>\n      <th>Amer-Indian-Eskimo</th>\n      <th>Asian-Pac-Islander</th>\n      <th>Black</th>\n      <th>Other</th>\n      <th>White</th>\n    </tr>\n    <tr>\n      <th>income</th>\n      <th></th>\n      <th></th>\n      <th></th>\n      <th></th>\n      <th></th>\n    </tr>\n  </thead>\n  <tbody>\n    <tr>\n      <th>&lt;=50K</th>\n      <td>275</td>\n      <td>763</td>\n      <td>2737</td>\n      <td>246</td>\n      <td>20699</td>\n    </tr>\n    <tr>\n      <th>&gt;50K</th>\n      <td>36</td>\n      <td>276</td>\n      <td>387</td>\n      <td>25</td>\n      <td>7117</td>\n    </tr>\n  </tbody>\n</table>\n</div>"
     },
     "metadata": {},
     "execution_count": 48
    }
   ],
   "source": [
    "# Crosstab between \"income\" and \"race\"\n",
    "income_race = pd.crosstab(df[\"income\"], df[\"race\"], )\n",
    "income_race"
   ]
  },
  {
   "cell_type": "code",
   "execution_count": 59,
   "metadata": {},
   "outputs": [
    {
     "output_type": "stream",
     "name": "stdout",
     "text": [
      "Observed Statistic: 330.92\nP-value: 2.305960610160958e-70\nDegrees of Freedom: 4\nCritical Statistic: 9.487729036781154\n-----------------------------------------------\nReject H0\nSo, There is significance relationship between income and race\n"
     ]
    }
   ],
   "source": [
    "# Null Hypothesis(H0) : There is No significance relationship between income and race\n",
    "# Alternative Hypothesis(H1) : There is significance relationship between income and race\n",
    "\n",
    "# Getting required parameters using chi2_contingency()\n",
    "stat, p, dof, expected = chi2_contingency(income_race)\n",
    "print(\"Observed Statistic:\", round(stat, 2))\n",
    "print(\"P-value:\", p)\n",
    "print(\"Degrees of Freedom:\", dof)\n",
    "\n",
    "# Taking significance level of 0.05\n",
    "significance_level = 0.05\n",
    "critical_stat = chi2.ppf(1-significance_level, 4)\n",
    "print(\"Critical Statistic:\", critical_stat)\n",
    "\n",
    "print(\"-----------------------------------------------\")\n",
    "if p < significance_level:\n",
    "    print(\"Reject H0\")\n",
    "    print(\"So, There is significance relationship between income and race\")\n",
    "else:\n",
    "    print(\"Fail to Reject H0\")    "
   ]
  },
  {
   "source": [
    "### Checking Relation between \"workclass\" and \"income\"."
   ],
   "cell_type": "markdown",
   "metadata": {}
  },
  {
   "cell_type": "code",
   "execution_count": 61,
   "metadata": {},
   "outputs": [],
   "source": [
    "# Removing empty spaces infront of values\n",
    "df[\"workclass\"] = df[\"workclass\"].str.strip()"
   ]
  },
  {
   "cell_type": "code",
   "execution_count": 65,
   "metadata": {},
   "outputs": [
    {
     "output_type": "execute_result",
     "data": {
      "text/plain": [
       "workclass  Federal-gov  Local-gov  Never-worked  Private  Self-emp-inc  \\\n",
       "income                                                                   \n",
       "<=50K              589       1476             7    17733           494   \n",
       ">50K               371        617             0     4963           622   \n",
       "\n",
       "workclass  Self-emp-not-inc  State-gov  Without-pay  \n",
       "income                                               \n",
       "<=50K                  1817        945           14  \n",
       ">50K                    724        353            0  "
      ],
      "text/html": "<div>\n<style scoped>\n    .dataframe tbody tr th:only-of-type {\n        vertical-align: middle;\n    }\n\n    .dataframe tbody tr th {\n        vertical-align: top;\n    }\n\n    .dataframe thead th {\n        text-align: right;\n    }\n</style>\n<table border=\"1\" class=\"dataframe\">\n  <thead>\n    <tr style=\"text-align: right;\">\n      <th>workclass</th>\n      <th>Federal-gov</th>\n      <th>Local-gov</th>\n      <th>Never-worked</th>\n      <th>Private</th>\n      <th>Self-emp-inc</th>\n      <th>Self-emp-not-inc</th>\n      <th>State-gov</th>\n      <th>Without-pay</th>\n    </tr>\n    <tr>\n      <th>income</th>\n      <th></th>\n      <th></th>\n      <th></th>\n      <th></th>\n      <th></th>\n      <th></th>\n      <th></th>\n      <th></th>\n    </tr>\n  </thead>\n  <tbody>\n    <tr>\n      <th>&lt;=50K</th>\n      <td>589</td>\n      <td>1476</td>\n      <td>7</td>\n      <td>17733</td>\n      <td>494</td>\n      <td>1817</td>\n      <td>945</td>\n      <td>14</td>\n    </tr>\n    <tr>\n      <th>&gt;50K</th>\n      <td>371</td>\n      <td>617</td>\n      <td>0</td>\n      <td>4963</td>\n      <td>622</td>\n      <td>724</td>\n      <td>353</td>\n      <td>0</td>\n    </tr>\n  </tbody>\n</table>\n</div>"
     },
     "metadata": {},
     "execution_count": 65
    }
   ],
   "source": [
    "# Crosstab between \"workclass\" and \"income\"\n",
    "income_workclass = pd.crosstab(df[\"income\"], df[\"workclass\"])\n",
    "income_workclass = income_workclass.drop(columns = [\"?\"]) \n",
    "income_workclass"
   ]
  },
  {
   "cell_type": "code",
   "execution_count": 66,
   "metadata": {},
   "outputs": [
    {
     "output_type": "stream",
     "name": "stdout",
     "text": [
      "Observed Statistic: 827.72\nP-value: 1.9338476684848218e-174\nDegrees of Freedom: 7\nCritical Statistic: 14.067140449340169\n-----------------------------------------------\nReject H0\nSo, There is significance relationship between income and workclass\n"
     ]
    }
   ],
   "source": [
    "# Null Hypothesis(H0) : There is No significance relationship between income and workclass\n",
    "# Alternative Hypothesis(H1) : There is significance relationship between income and workclass\n",
    "\n",
    "# Getting required parameters using chi2_contingency()\n",
    "stat, p, dof, expected = chi2_contingency(income_workclass)\n",
    "print(\"Observed Statistic:\", round(stat, 2))\n",
    "print(\"P-value:\", p)\n",
    "print(\"Degrees of Freedom:\", dof)\n",
    "\n",
    "# Taking significance level of 0.05\n",
    "significance_level = 0.05\n",
    "critical_stat = chi2.ppf(1-significance_level, dof)\n",
    "print(\"Critical Statistic:\", critical_stat)\n",
    "\n",
    "print(\"-----------------------------------------------\")\n",
    "if p < significance_level:\n",
    "    print(\"Reject H0\")\n",
    "    print(\"So, There is significance relationship between income and workclass\")\n",
    "else:\n",
    "    print(\"Fail to Reject H0\")"
   ]
  },
  {
   "source": [
    "### Checking Relation between \"education\" and \"income\"."
   ],
   "cell_type": "markdown",
   "metadata": {}
  },
  {
   "cell_type": "code",
   "execution_count": 67,
   "metadata": {},
   "outputs": [],
   "source": [
    "# Removing empty spaces infront of values\n",
    "df[\"education\"] = df[\"education\"].str.strip()"
   ]
  },
  {
   "cell_type": "code",
   "execution_count": 68,
   "metadata": {},
   "outputs": [
    {
     "output_type": "execute_result",
     "data": {
      "text/plain": [
       "education  10th  11th  12th  1st-4th  5th-6th  7th-8th  9th  Assoc-acdm  \\\n",
       "income                                                                    \n",
       "<=50K       871  1115   400      162      317      606  487         802   \n",
       ">50K         62    60    33        6       16       40   27         265   \n",
       "\n",
       "education  Assoc-voc  Bachelors  Doctorate  HS-grad  Masters  Preschool  \\\n",
       "income                                                                    \n",
       "<=50K           1021       3134        107     8826      764         51   \n",
       ">50K             361       2221        306     1675      959          0   \n",
       "\n",
       "education  Prof-school  Some-college  \n",
       "income                                \n",
       "<=50K              153          5904  \n",
       ">50K               423          1387  "
      ],
      "text/html": "<div>\n<style scoped>\n    .dataframe tbody tr th:only-of-type {\n        vertical-align: middle;\n    }\n\n    .dataframe tbody tr th {\n        vertical-align: top;\n    }\n\n    .dataframe thead th {\n        text-align: right;\n    }\n</style>\n<table border=\"1\" class=\"dataframe\">\n  <thead>\n    <tr style=\"text-align: right;\">\n      <th>education</th>\n      <th>10th</th>\n      <th>11th</th>\n      <th>12th</th>\n      <th>1st-4th</th>\n      <th>5th-6th</th>\n      <th>7th-8th</th>\n      <th>9th</th>\n      <th>Assoc-acdm</th>\n      <th>Assoc-voc</th>\n      <th>Bachelors</th>\n      <th>Doctorate</th>\n      <th>HS-grad</th>\n      <th>Masters</th>\n      <th>Preschool</th>\n      <th>Prof-school</th>\n      <th>Some-college</th>\n    </tr>\n    <tr>\n      <th>income</th>\n      <th></th>\n      <th></th>\n      <th></th>\n      <th></th>\n      <th></th>\n      <th></th>\n      <th></th>\n      <th></th>\n      <th></th>\n      <th></th>\n      <th></th>\n      <th></th>\n      <th></th>\n      <th></th>\n      <th></th>\n      <th></th>\n    </tr>\n  </thead>\n  <tbody>\n    <tr>\n      <th>&lt;=50K</th>\n      <td>871</td>\n      <td>1115</td>\n      <td>400</td>\n      <td>162</td>\n      <td>317</td>\n      <td>606</td>\n      <td>487</td>\n      <td>802</td>\n      <td>1021</td>\n      <td>3134</td>\n      <td>107</td>\n      <td>8826</td>\n      <td>764</td>\n      <td>51</td>\n      <td>153</td>\n      <td>5904</td>\n    </tr>\n    <tr>\n      <th>&gt;50K</th>\n      <td>62</td>\n      <td>60</td>\n      <td>33</td>\n      <td>6</td>\n      <td>16</td>\n      <td>40</td>\n      <td>27</td>\n      <td>265</td>\n      <td>361</td>\n      <td>2221</td>\n      <td>306</td>\n      <td>1675</td>\n      <td>959</td>\n      <td>0</td>\n      <td>423</td>\n      <td>1387</td>\n    </tr>\n  </tbody>\n</table>\n</div>"
     },
     "metadata": {},
     "execution_count": 68
    }
   ],
   "source": [
    "# Crosstab between \"education\" and \"income\"\n",
    "income_education = pd.crosstab(df[\"income\"], df[\"education\"])\n",
    " \n",
    "income_education"
   ]
  },
  {
   "cell_type": "code",
   "execution_count": 69,
   "metadata": {},
   "outputs": [
    {
     "output_type": "stream",
     "name": "stdout",
     "text": [
      "Observed Statistic: 4429.65\nP-value: 0.0\nDegrees of Freedom: 15\nCritical Statistic: 24.995790139728616\n-----------------------------------------------\nReject H0\nSo, There is significance relationship between income and education\n"
     ]
    }
   ],
   "source": [
    "# Null Hypothesis(H0) : There is No significance relationship between income and education\n",
    "# Alternative Hypothesis(H1) : There is significance relationship between income and education\n",
    "\n",
    "# Getting required parameters using chi2_contingency()\n",
    "stat, p, dof, expected = chi2_contingency(income_education)\n",
    "print(\"Observed Statistic:\", round(stat, 2))\n",
    "print(\"P-value:\", p)\n",
    "print(\"Degrees of Freedom:\", dof)\n",
    "\n",
    "# Taking significance level of 0.05\n",
    "significance_level = 0.05\n",
    "critical_stat = chi2.ppf(1-significance_level, dof)\n",
    "print(\"Critical Statistic:\", critical_stat)\n",
    "\n",
    "print(\"-----------------------------------------------\")\n",
    "if p < significance_level:\n",
    "    print(\"Reject H0\")\n",
    "    print(\"So, There is significance relationship between income and education.\")\n",
    "else:\n",
    "    print(\"Fail to Reject H0\")"
   ]
  },
  {
   "source": [
    "### Checking Relation between \"sex\" and \"income\"."
   ],
   "cell_type": "markdown",
   "metadata": {}
  },
  {
   "cell_type": "code",
   "execution_count": 70,
   "metadata": {},
   "outputs": [],
   "source": [
    "# Removing empty spaces infront of values\n",
    "df[\"sex\"] = df[\"sex\"].str.strip()"
   ]
  },
  {
   "cell_type": "code",
   "execution_count": 71,
   "metadata": {},
   "outputs": [
    {
     "output_type": "execute_result",
     "data": {
      "text/plain": [
       "sex     Female   Male\n",
       "income               \n",
       "<=50K     9592  15128\n",
       ">50K      1179   6662"
      ],
      "text/html": "<div>\n<style scoped>\n    .dataframe tbody tr th:only-of-type {\n        vertical-align: middle;\n    }\n\n    .dataframe tbody tr th {\n        vertical-align: top;\n    }\n\n    .dataframe thead th {\n        text-align: right;\n    }\n</style>\n<table border=\"1\" class=\"dataframe\">\n  <thead>\n    <tr style=\"text-align: right;\">\n      <th>sex</th>\n      <th>Female</th>\n      <th>Male</th>\n    </tr>\n    <tr>\n      <th>income</th>\n      <th></th>\n      <th></th>\n    </tr>\n  </thead>\n  <tbody>\n    <tr>\n      <th>&lt;=50K</th>\n      <td>9592</td>\n      <td>15128</td>\n    </tr>\n    <tr>\n      <th>&gt;50K</th>\n      <td>1179</td>\n      <td>6662</td>\n    </tr>\n  </tbody>\n</table>\n</div>"
     },
     "metadata": {},
     "execution_count": 71
    }
   ],
   "source": [
    "# Crosstab between \"education\" and \"income\"\n",
    "income_sex = pd.crosstab(df[\"income\"], df[\"sex\"])\n",
    " \n",
    "income_sex"
   ]
  },
  {
   "cell_type": "code",
   "execution_count": 72,
   "metadata": {},
   "outputs": [
    {
     "output_type": "stream",
     "name": "stdout",
     "text": [
      "Observed Statistic: 1517.81\nP-value: 0.0\nDegrees of Freedom: 1\nCritical Statistic: 3.841458820694124\n-----------------------------------------------\nReject H0\nSo, There is significance relationship between income and sex.\n"
     ]
    }
   ],
   "source": [
    "# Null Hypothesis(H0) : There is No significance relationship between income and sex\n",
    "# Alternative Hypothesis(H1) : There is significance relationship between income and sex\n",
    "\n",
    "# Getting required parameters using chi2_contingency()\n",
    "stat, p, dof, expected = chi2_contingency(income_sex)\n",
    "print(\"Observed Statistic:\", round(stat, 2))\n",
    "print(\"P-value:\", p)\n",
    "print(\"Degrees of Freedom:\", dof)\n",
    "\n",
    "# Taking significance level of 0.05\n",
    "significance_level = 0.05\n",
    "critical_stat = chi2.ppf(1-significance_level, dof)\n",
    "print(\"Critical Statistic:\", critical_stat)\n",
    "\n",
    "print(\"-----------------------------------------------\")\n",
    "if p < significance_level:\n",
    "    print(\"Reject H0\")\n",
    "    print(\"So, There is significance relationship between income and sex.\")\n",
    "else:\n",
    "    print(\"Fail to Reject H0\")"
   ]
  }
 ]
}